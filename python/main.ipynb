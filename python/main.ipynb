{
 "cells": [
  {
   "cell_type": "code",
   "execution_count": 17,
   "metadata": {},
   "outputs": [],
   "source": [
    "import os\n",
    "import json\n",
    "from git import Repo"
   ]
  },
  {
   "cell_type": "code",
   "execution_count": 18,
   "metadata": {},
   "outputs": [],
   "source": [
    "root_dir= './common_interfaces/'\n",
    "if not os.path.exists(root_dir):\n",
    "    git_url = \"https://github.com/ros2/common_interfaces.git\"\n",
    "    Repo.clone_from(git_url, root_dir)"
   ]
  },
  {
   "cell_type": "code",
   "execution_count": 19,
   "metadata": {},
   "outputs": [],
   "source": [
    "# add the first to a object\n",
    "data = []\n",
    "for x in os.listdir(root_dir):\n",
    "    if x.endswith('_msgs'):\n",
    "        with open(root_dir+x+\"/README.md\") as f:\n",
    "            description = f.read()\n",
    "            f.close()        \n",
    "        msg_type = {'value':x, 'label':x, 'children':[]} #\"description\": description,\n",
    "        for y in os.listdir(root_dir+x+'/msg'):\n",
    "            with open(root_dir+x+'/msg/'+y) as f:\n",
    "                description = f.read()\n",
    "                f.close()\n",
    "            msg_type['children'].append({'value':y, 'label':y, }) #'description':description\n",
    "        data.append(msg_type)\n",
    "# print(data)"
   ]
  },
  {
   "cell_type": "code",
   "execution_count": 20,
   "metadata": {},
   "outputs": [],
   "source": [
    "#write to json file\n",
    "with open('data.json', 'w') as f:\n",
    "    json.dump(data, f)\n",
    "    f.close()"
   ]
  }
 ],
 "metadata": {
  "kernelspec": {
   "display_name": "Python 3.10.4 ('ciclab')",
   "language": "python",
   "name": "python3"
  },
  "language_info": {
   "codemirror_mode": {
    "name": "ipython",
    "version": 3
   },
   "file_extension": ".py",
   "mimetype": "text/x-python",
   "name": "python",
   "nbconvert_exporter": "python",
   "pygments_lexer": "ipython3",
   "version": "3.10.4"
  },
  "orig_nbformat": 4,
  "vscode": {
   "interpreter": {
    "hash": "2a484e9ec8250d6e68bb294902ceffd8ca2916172ecaea57bbcef27be21cf0ba"
   }
  }
 },
 "nbformat": 4,
 "nbformat_minor": 2
}
